{
  "nbformat": 4,
  "nbformat_minor": 0,
  "metadata": {
    "colab": {
      "provenance": [],
      "authorship_tag": "ABX9TyOZD/Zr3p3YBnrZhTW1onSf",
      "include_colab_link": true
    },
    "kernelspec": {
      "name": "python3",
      "display_name": "Python 3"
    },
    "language_info": {
      "name": "python"
    }
  },
  "cells": [
    {
      "cell_type": "markdown",
      "metadata": {
        "id": "view-in-github",
        "colab_type": "text"
      },
      "source": [
        "<a href=\"https://colab.research.google.com/github/YusufPutraBintangSatria/Natural_Language_Processing/blob/main/CaseFoldingNlp.ipynb\" target=\"_parent\"><img src=\"https://colab.research.google.com/assets/colab-badge.svg\" alt=\"Open In Colab\"/></a>"
      ]
    },
    {
      "cell_type": "code",
      "execution_count": 1,
      "metadata": {
        "colab": {
          "base_uri": "https://localhost:8080/"
        },
        "id": "wFS7C-E55L0O",
        "outputId": "9eb58950-8ac9-42ea-a3fd-da3c949e10da"
      },
      "outputs": [
        {
          "output_type": "stream",
          "name": "stdout",
          "text": [
            "Collecting PyPDF2\n",
            "  Downloading pypdf2-3.0.1-py3-none-any.whl.metadata (6.8 kB)\n",
            "Downloading pypdf2-3.0.1-py3-none-any.whl (232 kB)\n",
            "\u001b[?25l   \u001b[90m━━━━━━━━━━━━━━━━━━━━━━━━━━━━━━━━━━━━━━━━\u001b[0m \u001b[32m0.0/232.6 kB\u001b[0m \u001b[31m?\u001b[0m eta \u001b[36m-:--:--\u001b[0m\r\u001b[2K   \u001b[91m━━━━━━━━━━━━━━━━━━━━━━━━━━━━━━━━━━━━━━\u001b[0m\u001b[91m╸\u001b[0m\u001b[90m━\u001b[0m \u001b[32m225.3/232.6 kB\u001b[0m \u001b[31m7.9 MB/s\u001b[0m eta \u001b[36m0:00:01\u001b[0m\r\u001b[2K   \u001b[90m━━━━━━━━━━━━━━━━━━━━━━━━━━━━━━━━━━━━━━━━\u001b[0m \u001b[32m232.6/232.6 kB\u001b[0m \u001b[31m5.1 MB/s\u001b[0m eta \u001b[36m0:00:00\u001b[0m\n",
            "\u001b[?25hInstalling collected packages: PyPDF2\n",
            "Successfully installed PyPDF2-3.0.1\n"
          ]
        }
      ],
      "source": [
        "pip install PyPDF2\n"
      ]
    },
    {
      "cell_type": "code",
      "source": [
        "import PyPDF2\n",
        "import re\n",
        "import string\n",
        "\n",
        "def baca_pdf(nama_file):\n",
        "    teks_pdf = \"\"\n",
        "    with open(nama_file, \"rb\") as file:\n",
        "        pembaca_pdf = PyPDF2.PdfReader(file)\n",
        "        jumlah_halaman = len(pembaca_pdf.pages)\n",
        "\n",
        "        # Membaca setiap halaman\n",
        "        for halaman in range(jumlah_halaman):\n",
        "            halaman_pdf = pembaca_pdf.pages[halaman]\n",
        "            teks_pdf += halaman_pdf.extract_text()\n",
        "\n",
        "    return teks_pdf\n",
        "\n",
        "def case_folding(teks):\n",
        "    return teks.lower()\n",
        "\n",
        "# Fungsi untuk menghapus angka dari teks\n",
        "def hapus_angka(teks):\n",
        "    return re.sub(r'\\d+', '', teks)\n",
        "\n",
        "# Fungsi untuk menghapus tanda baca dari teks\n",
        "def hapus_tanda_baca(teks):\n",
        "    return teks.translate(str.maketrans('', '', string.punctuation))\n",
        "\n",
        "# Fungsi untuk menyimpan teks ke file .txt\n",
        "def simpan_teks(nama_file, teks):\n",
        "    with open(nama_file, \"w\") as file:\n",
        "        file.write(teks)\n",
        "\n",
        "def tugas_case_folding_pdf(pdf_file, txt_file_output):\n",
        "    # Langkah 1: Membaca file PDF\n",
        "    teks_pdf = baca_pdf(pdf_file)\n",
        "\n",
        "    # Langkah 2: Melakukan case folding\n",
        "    teks_case_folding = case_folding(teks_pdf)\n",
        "\n",
        "    # Langkah 3: Menghapus angka\n",
        "    teks_tanpa_angka = hapus_angka(teks_case_folding)\n",
        "\n",
        "    # Langkah 4: Menghapus tanda baca\n",
        "    teks_bersih = hapus_tanda_baca(teks_tanpa_angka)\n",
        "\n",
        "    # Langkah 5: Menyimpan hasil ke file teks\n",
        "    simpan_teks(txt_file_output, teks_bersih)\n",
        "    print(f\"Hasil case folding, tanpa angka dan tanpa tanda baca disimpan di {txt_file_output}\")\n",
        "\n",
        "pdf_file = \"Sasuke_Uchiha.pdf\"  # Nama file PDF\n",
        "txt_file_output = \"hasil_casefolding_Sasuke_Uchiha_pypdf2_bersih.txt\"  # Nama file output\n",
        "\n",
        "tugas_case_folding_pdf(pdf_file, txt_file_output)\n",
        ""
      ],
      "metadata": {
        "colab": {
          "base_uri": "https://localhost:8080/"
        },
        "id": "SbbyFSsZ5Mcu",
        "outputId": "a5fce298-c272-47a5-bdec-9d29e80537b9"
      },
      "execution_count": 4,
      "outputs": [
        {
          "output_type": "stream",
          "name": "stdout",
          "text": [
            "Hasil case folding, tanpa angka dan tanpa tanda baca disimpan di hasil_casefolding_Sasuke_Uchiha_pypdf2_bersih.txt\n"
          ]
        }
      ]
    }
  ]
}